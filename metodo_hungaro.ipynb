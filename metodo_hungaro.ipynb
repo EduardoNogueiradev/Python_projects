import numpy as np
from scipy.optimize import linear_sum_assignment

# Montando a matriz
matriz = []
tamanho_matriz = int(input("Digite o tamanho da sua matriz: "))

for i in range(tamanho_matriz):
    linha = []
    for j in range(tamanho_matriz):
        numero = int(input(f"Digite o número {j+1} da linha {i+1}: "))
        linha.append(numero)
        
    matriz.append(linha)

# Exibindo a matriz montada    
print("##### MATRIZ #####")
for linha in matriz:
    print(linha)

# Retirando os menores valores em linha
matriz_subtraida_linhas = []

for linha in matriz:
    menor_valor = min(linha)
    linha_subtraida = [numero - menor_valor for numero in linha]
    matriz_subtraida_linhas.append(linha_subtraida)

# Exibindo a matriz com os valores em linha subtraídos
print("\n##### Linhas Subtraídas #####")
for linha in matriz_subtraida_linhas:
    print(linha)

# Subtraindo as colunas
matriz_colunas_subtraida = []

for i in range(tamanho_matriz):
    coluna = [linha[i] for linha in matriz_subtraida_linhas]
    menor_valor_coluna = min(coluna)
    coluna_subtraida = [numero - menor_valor_coluna for numero in coluna]
    matriz_colunas_subtraida.append(coluna_subtraida)

# Exibindo a matriz com as colunas subtraídas
print("\n##### Colunas Subtraídas #####")
for linha in matriz_colunas_subtraida:
    print(linha)

# Transformando as colunas subtraídas em linhas
matriz_linhas_transformada = []

for i in range(tamanho_matriz):
    nova_linha = [linha[i] for linha in matriz_colunas_subtraida]
    matriz_linhas_transformada.append(nova_linha)

# Exibindo a matriz transformada com as colunas subtraídas em linhas
print("\n##### Matriz Transformada #####")
for linha in matriz_linhas_transformada:
    print(linha)


custo = np.array(matriz)

row_ind, col_ind = linear_sum_assignment(custo)

col_ind_att = [indice + 1 for indice in col_ind]


print("\n##### Posiçao da alocação #####")
print(col_ind_att)

print("\n##### Custo #####")
print(custo[row_ind, col_ind].sum())
