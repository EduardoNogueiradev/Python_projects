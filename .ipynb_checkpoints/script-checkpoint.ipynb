{
 "cells": [
  {
   "cell_type": "code",
   "execution_count": 340,
   "id": "27b3cdf4",
   "metadata": {},
   "outputs": [
    {
     "ename": "SyntaxError",
     "evalue": "invalid syntax (3574135549.py, line 34)",
     "output_type": "error",
     "traceback": [
      "\u001b[1;36m  File \u001b[1;32m\"C:\\Users\\Eduardo\\AppData\\Local\\Temp\\ipykernel_7320\\3574135549.py\"\u001b[1;36m, line \u001b[1;32m34\u001b[0m\n\u001b[1;33m    var tamanho_tb2 = tb2.index.size\u001b[0m\n\u001b[1;37m        ^\u001b[0m\n\u001b[1;31mSyntaxError\u001b[0m\u001b[1;31m:\u001b[0m invalid syntax\n"
     ]
    }
   ],
   "source": [
    "import pandas as pd\n",
    "# Definir as tabelas\n",
    "caminho_tb1 = r\"C:\\Users\\Eduardo\\Downloads\\python\\planilha_1.xls\" #input(\"Digite o caminho da planilha 1: \")\n",
    "\n",
    "caminho_tb2 = r\"C:\\Users\\Eduardo\\Downloads\\python\\planilha_2.xlsx\" #input(\"Digite o caminho da planilha 2: \")\n",
    " \n",
    "# Declarando valores iguais\n",
    "def igual(valor1,valor2):\n",
    "    valor1_int = int(valor1)\n",
    "    valor2_int = int(valor2)\n",
    "    verificacao = valor1_int == valor2_int\n",
    "    return(verificacao)\n",
    "    \n",
    "nf_tb1 = \"F\"\n",
    "nome_tb1 = \"V\"\n",
    "valor_tb1 = \"N\"\n",
    "\n",
    "\n",
    "nf_tb2 = \"B\"\n",
    "nome_tb2 = \"G\"\n",
    "valor_tb2 = \"F\"\n",
    "\n",
    "\n",
    "    \n",
    "#Definir as colunas de cada tabela\n",
    "\n",
    "tb1 = pd.read_excel(rf\"{caminho_tb1}\", usecols=f\"{nf_tb1},{nome_tb1},{valor_tb1}\").dropna()\n",
    "\n",
    "tb2 = pd.read_excel(rf\"{caminho_tb2}\", usecols=f\"{nf_tb2},{nome_tb2},{valor_tb2}\").dropna()\n",
    "\n",
    "# tamanho das tabelas\n",
    "tamanho_tb1 = tb1.index.size\n",
    "\n",
    "tamanho_tb2 = tb2.index.size\n",
    "\n",
    "\n",
    "# Nota fiscal\n",
    "def nf(tabela,indice):\n",
    "    valor = tabela.at[indice,tabela.columns[0]]\n",
    "    return(int(valor))\n",
    "    \n",
    "# Valores da Nota fiscal\n",
    "def nf_value(tabela,indice):\n",
    "    valor = tabela.loc[indice]\n",
    "    return(valor)\n",
    "\n",
    "    \n",
    "    \n",
    "    \n",
    "    \n",
    "# pegar a nota da tabela 1\n",
    "print(nf(tb1,0))\n",
    "    \n",
    "    \n",
    "# pegar os dados dessa nota\n",
    "print(nf_value(tb1,0))\n",
    "\n",
    "\n",
    "print(nf(tb2,146))\n",
    "\n",
    "# verificar a existência dessa nota na tabela 2\n",
    "for ana in range(0, tamanho_tb2):\n",
    "    if nf(tb1,0) == nf(tb2,tamanho_tb2):\n",
    "        print('tem')\n",
    "        break\n",
    "\n",
    "\n",
    "\n",
    "# pegar o número dessa nota\n",
    "\n",
    "\n",
    "\n",
    "        \n",
    "\n"
   ]
  },
  {
   "cell_type": "code",
   "execution_count": 330,
   "id": "96fd7b97",
   "metadata": {},
   "outputs": [
    {
     "ename": "AttributeError",
     "evalue": "'Int64Index' object has no attribute 'stop'",
     "output_type": "error",
     "traceback": [
      "\u001b[1;31m---------------------------------------------------------------------------\u001b[0m",
      "\u001b[1;31mAttributeError\u001b[0m                            Traceback (most recent call last)",
      "\u001b[1;32m~\\AppData\\Local\\Temp\\ipykernel_7320\\3863945384.py\u001b[0m in \u001b[0;36m<module>\u001b[1;34m\u001b[0m\n\u001b[1;32m----> 1\u001b[1;33m \u001b[0mlinhas_tb1\u001b[0m \u001b[1;33m=\u001b[0m \u001b[0mtb1\u001b[0m\u001b[1;33m.\u001b[0m\u001b[0mindex\u001b[0m\u001b[1;33m.\u001b[0m\u001b[0mstop\u001b[0m\u001b[1;33m\u001b[0m\u001b[1;33m\u001b[0m\u001b[0m\n\u001b[0m\u001b[0;32m      2\u001b[0m \u001b[1;33m\u001b[0m\u001b[0m\n\u001b[0;32m      3\u001b[0m \u001b[1;33m\u001b[0m\u001b[0m\n\u001b[0;32m      4\u001b[0m \u001b[1;32mfor\u001b[0m \u001b[0mlinhas\u001b[0m \u001b[1;32min\u001b[0m \u001b[0mrange\u001b[0m\u001b[1;33m(\u001b[0m\u001b[1;36m0\u001b[0m\u001b[1;33m,\u001b[0m\u001b[0mlinhas_tb1\u001b[0m \u001b[1;33m-\u001b[0m \u001b[1;36m1\u001b[0m\u001b[1;33m)\u001b[0m\u001b[1;33m:\u001b[0m\u001b[1;33m\u001b[0m\u001b[1;33m\u001b[0m\u001b[0m\n\u001b[0;32m      5\u001b[0m \u001b[1;33m\u001b[0m\u001b[0m\n",
      "\u001b[1;31mAttributeError\u001b[0m: 'Int64Index' object has no attribute 'stop'"
     ]
    }
   ],
   "source": [
    "linhas_tb1 = tb1.index.stop\n",
    "\n",
    "\n",
    "for linhas in range(0,linhas_tb1 - 1):\n",
    "    \n",
    "    nota = float(tb1.loc[linhas].at[\"Nota\"])\n",
    "    existe = nota != 'nan'\n",
    "    \n",
    "    if existe:\n",
    "        display(linhas, tb1.loc[linhas].at[\"Nota\"])"
   ]
  },
  {
   "cell_type": "code",
   "execution_count": 331,
   "id": "ff73e306",
   "metadata": {},
   "outputs": [
    {
     "ename": "SyntaxError",
     "evalue": "invalid syntax (2234493235.py, line 7)",
     "output_type": "error",
     "traceback": [
      "\u001b[1;36m  File \u001b[1;32m\"C:\\Users\\Eduardo\\AppData\\Local\\Temp\\ipykernel_7320\\2234493235.py\"\u001b[1;36m, line \u001b[1;32m7\u001b[0m\n\u001b[1;33m    nf_tb2_input =\u001b[0m\n\u001b[1;37m                   ^\u001b[0m\n\u001b[1;31mSyntaxError\u001b[0m\u001b[1;31m:\u001b[0m invalid syntax\n"
     ]
    }
   ],
   "source": [
    "#Tabela 1 input\n",
    "nf_tb1_input = \"F\"\n",
    "cliente_tb1_input = \"N\"\n",
    "Valor_tb1_input = \"V\"\n",
    "\n",
    "#Tabela 2 input\n",
    "nf_tb2_input = \n",
    "cliente_tb2_input = \n",
    "Valor_tb2_input = \n",
    "\n",
    "#Tabela 1\n",
    "nf_tb1 = pd.read_excel(rf\"{caminho_tabela1}\", usecols=f\"{}\")\n",
    "cliente_tb1 = pd.read_excel(rf\"{caminho_tabela1}\", usecols=f\"{}\")\n",
    "Valor_tb1 = pd.read_excel(rf\"{caminho_tabela1}\", usecols=f\"{}\")\n",
    "\n",
    "#Tabela 2\n",
    "nf_tb2 = pd.read_excel(rf\"{caminho_tabela2}\", usecols=f\"{}\")\n",
    "cliente_tb2 = pd.read_excel(rf\"{caminho_tabela2}\", usecols=f\"{}\")\n",
    "Valor_tb2 = pd.read_excel(rf\"{caminho_tabela2}\", usecols=f\"{}\")\n",
    "\n"
   ]
  },
  {
   "cell_type": "code",
   "execution_count": 301,
   "id": "4172e04d",
   "metadata": {},
   "outputs": [
    {
     "name": "stdout",
     "output_type": "stream",
     "text": [
      "Index(['nota', 'valortotal', 'fantasiacliente'], dtype='object')\n"
     ]
    }
   ],
   "source": [
    "import pandas as pd\n",
    "# Definir as tabelas\n",
    "caminho_tb1 = r\"C:\\Users\\Eduardo\\Downloads\\python\\Planilhas amanda\\planilha_1.xls\" #input(\"Digite o caminho da planilha 1: \")\n",
    "\n",
    "caminho_tb2 = r\"C:\\Users\\Eduardo\\Downloads\\python\\Planilhas amanda\\planilha_2.xlsx\" #input(\"Digite o caminho da planilha 2: \")\n",
    " \n",
    "# Declarando valores iguais\n",
    "def igual(valor1,valor2):\n",
    "    verificacao = valor1 == valor2\n",
    "    return(verificacao)\n",
    "    \n",
    "    \n",
    "#Definir as colunas de cada tabela\n",
    "\n",
    "tb1 = pd.read_excel(rf\"{caminho_tb1}\", usecols=\"F,V,N\").dropna()\n",
    "\n",
    "tb2 = pd.read_excel(rf\"{caminho_tb2}\", usecols=\"B,F,G\").dropna()\n",
    "\n",
    "# tamanho das tabelas\n",
    "tamanho_tb1 = tb1.index.size\n",
    "\n",
    "print(tb2.columns)"
   ]
  },
  {
   "cell_type": "code",
   "execution_count": null,
   "id": "ce4a0a18",
   "metadata": {},
   "outputs": [],
   "source": []
  }
 ],
 "metadata": {
  "kernelspec": {
   "display_name": "Python 3 (ipykernel)",
   "language": "python",
   "name": "python3"
  },
  "language_info": {
   "codemirror_mode": {
    "name": "ipython",
    "version": 3
   },
   "file_extension": ".py",
   "mimetype": "text/x-python",
   "name": "python",
   "nbconvert_exporter": "python",
   "pygments_lexer": "ipython3",
   "version": "3.11.4"
  }
 },
 "nbformat": 4,
 "nbformat_minor": 5
}
